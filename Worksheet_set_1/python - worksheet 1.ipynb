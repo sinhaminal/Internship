{
 "cells": [
  {
   "cell_type": "code",
   "execution_count": 29,
   "id": "da8ba1b4",
   "metadata": {},
   "outputs": [
    {
     "name": "stdout",
     "output_type": "stream",
     "text": [
      "Enter a Number:5\n",
      "The factorial of is 120\n"
     ]
    }
   ],
   "source": [
    "# Q11. To find the factorial of a number\n",
    "\n",
    "\n",
    "num =int(input(\"Enter a Number:\"))\n",
    "fact= 1\n",
    "if num<0:\n",
    "    print(\"the factorial does not exists for negative numbers\")\n",
    "    \n",
    "elif num==0:\n",
    "    print(\"The factorial for 0 is 1\")\n",
    "    \n",
    "while(num>1):\n",
    "    fact=fact*num\n",
    "    num=num-1\n",
    "    \n",
    "print (\"The factorial of is\", fact)"
   ]
  },
  {
   "cell_type": "code",
   "execution_count": 1,
   "id": "81ebf641",
   "metadata": {},
   "outputs": [
    {
     "name": "stdout",
     "output_type": "stream",
     "text": [
      "Enter a number :12\n",
      "12 is a Composite Number\n"
     ]
    }
   ],
   "source": [
    "# Q12. To find whether a number is Prime  or Composite\n",
    "\n",
    "\n",
    "num= int(input(\"Enter a number :\"))\n",
    "\n",
    "if num<1:\n",
    "    print(\"Number needs to be greater than 1\")\n",
    "\n",
    "elif num==1:\n",
    "    print(\"Number is neither prime nor composite\")\n",
    "    \n",
    "else:\n",
    "    for i in range(2, (num//2)+1):\n",
    "        if (num%i)==0:\n",
    "            print (num, \"is a Composite Number\")\n",
    "            break\n",
    "\n",
    "    else:\n",
    "        print (num, \"is a Prime Number\")\n"
   ]
  },
  {
   "cell_type": "code",
   "execution_count": 2,
   "id": "ec6caf8e",
   "metadata": {},
   "outputs": [
    {
     "name": "stdout",
     "output_type": "stream",
     "text": [
      "Enter string: motor\n",
      "Not Palindrome string\n"
     ]
    }
   ],
   "source": [
    "# Q13. To check whether a given string is palindrome\n",
    "\n",
    "\n",
    "a= input(\"Enter string: \")\n",
    "b=a[-1: :-1]\n",
    "\n",
    "if (a==b):\n",
    "    print (\"Palindrome string\")\n",
    "    \n",
    "else:\n",
    "    print(\"Not Palindrome string\")"
   ]
  },
  {
   "cell_type": "code",
   "execution_count": 1,
   "id": "be47c6b6",
   "metadata": {},
   "outputs": [
    {
     "name": "stdout",
     "output_type": "stream",
     "text": [
      "Input length of shorter triangle side\n",
      "Enter a:4\n",
      "Enter b:4\n",
      "the length of hypotenuse is : 5.656854249492381\n"
     ]
    }
   ],
   "source": [
    "# Q14. To get the third side of right-angled triangle from two given sides also known as hypotenuse, so the formula for finding the hypotenuse i\n",
    "\n",
    "from math import sqrt\n",
    "\n",
    "print(\"Input length of shorter triangle side\")\n",
    "\n",
    "a= float( input(\"Enter a:\"))\n",
    "b= float( input(\"Enter b:\"))\n",
    "c= sqrt(a**2+ b**2)\n",
    "print (\"the length of hypotenuse is :\" , c)"
   ]
  },
  {
   "cell_type": "code",
   "execution_count": 2,
   "id": "7381379c",
   "metadata": {},
   "outputs": [
    {
     "name": "stdout",
     "output_type": "stream",
     "text": [
      "Enter the stringpermission\n",
      "{'p': 1, 'e': 1, 'r': 1, 'm': 1, 'i': 2, 's': 2, 'o': 1, 'n': 1}\n"
     ]
    }
   ],
   "source": [
    "# Q15. To print the frequency of each of the characters present in a given string.\n",
    "\n",
    "str1 = input(\"Enter the string\")\n",
    "d1 = dict()\n",
    "for c in str1:\n",
    "    if c in d1:\n",
    "        d1[c] =d1[c] + 1\n",
    "        \n",
    "    else:\n",
    "        d1[c] = 1\n",
    "        \n",
    "print(d1)"
   ]
  },
  {
   "cell_type": "code",
   "execution_count": null,
   "id": "586d4dce",
   "metadata": {},
   "outputs": [],
   "source": []
  }
 ],
 "metadata": {
  "kernelspec": {
   "display_name": "Python 3 (ipykernel)",
   "language": "python",
   "name": "python3"
  },
  "language_info": {
   "codemirror_mode": {
    "name": "ipython",
    "version": 3
   },
   "file_extension": ".py",
   "mimetype": "text/x-python",
   "name": "python",
   "nbconvert_exporter": "python",
   "pygments_lexer": "ipython3",
   "version": "3.9.7"
  }
 },
 "nbformat": 4,
 "nbformat_minor": 5
}
